{
 "cells": [
  {
   "cell_type": "code",
   "execution_count": null,
   "metadata": {},
   "outputs": [],
   "source": [
    "import numpy as np\n",
    "import math\n",
    "import matplotlib.pyplot as plt\n",
    "inf = math.inf"
   ]
  },
  {
   "cell_type": "code",
   "execution_count": null,
   "metadata": {},
   "outputs": [],
   "source": [
    "# 1. read raw wig files"
   ]
  },
  {
   "cell_type": "code",
   "execution_count": 34,
   "metadata": {},
   "outputs": [],
   "source": [
    "# open wig files\n",
    "def read_wig(filename):\n",
    "    infile = open(filename,'r')\n",
    "    file = infile.readlines()\n",
    "    if len(file) <= 3 and :\n",
    "        print('0')\n",
    "        return file"
   ]
  },
  {
   "cell_type": "code",
   "execution_count": 30,
   "metadata": {},
   "outputs": [
    {
     "name": "stdout",
     "output_type": "stream",
     "text": [
      "0\n"
     ]
    },
    {
     "data": {
      "text/plain": [
       "['track type=wiggle_0 name=\"output/SD_DAM_testing_9f6423ed-373d-4b74-b6fe-d8626b21cb4c.fast5_fraction_modified_reads_fwd_strand\" description=\"output/SD_DAM_testing_9f6423ed-373d-4b74-b6fe-d8626b21cb4c.fast5 fraction_modified_reads fwd_strand\"\\n',\n",
       " 'variableStep chrom=chrM span=1\\n',\n",
       " '11725 1.0000\\n']"
      ]
     },
     "execution_count": 30,
     "metadata": {},
     "output_type": "execute_result"
    }
   ],
   "source": [
    "read_wig('SD_DAM_testing_9f6423ed-373d-4b74-b6fe-d8626b21cb4c.fast5.fraction_modified_reads.plus.wig')"
   ]
  },
  {
   "cell_type": "code",
   "execution_count": 31,
   "metadata": {},
   "outputs": [
    {
     "name": "stdout",
     "output_type": "stream",
     "text": [
      "0\n"
     ]
    },
    {
     "data": {
      "text/plain": [
       "['track type=wiggle_0 name=\"output/SD_DAM_testing_0d3fc7e9-d647-49f7-bc61-c665c07381fd.fast5_fraction_modified_reads_fwd_strand\" description=\"output/SD_DAM_testing_0d3fc7e9-d647-49f7-bc61-c665c07381fd.fast5 fraction_modified_reads fwd_strand\"\\n',\n",
       " 'variableStep chrom=chr7 span=1\\n',\n",
       " '\\n']"
      ]
     },
     "execution_count": 31,
     "metadata": {},
     "output_type": "execute_result"
    }
   ],
   "source": [
    "read_wig('SD_DAM_testing_0d3fc7e9-d647-49f7-bc61-c665c07381fd.fast5.fraction_modified_reads.plus.wig')"
   ]
  },
  {
   "cell_type": "code",
   "execution_count": null,
   "metadata": {},
   "outputs": [],
   "source": []
  }
 ],
 "metadata": {
  "kernelspec": {
   "display_name": "Python 3",
   "language": "python",
   "name": "python3"
  },
  "language_info": {
   "codemirror_mode": {
    "name": "ipython",
    "version": 3
   },
   "file_extension": ".py",
   "mimetype": "text/x-python",
   "name": "python",
   "nbconvert_exporter": "python",
   "pygments_lexer": "ipython3",
   "version": "3.7.0"
  }
 },
 "nbformat": 4,
 "nbformat_minor": 2
}
